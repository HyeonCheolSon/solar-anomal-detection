{
 "cells": [
  {
   "cell_type": "code",
   "execution_count": 1,
   "metadata": {},
   "outputs": [],
   "source": [
    "import numpy as np\n",
    "import cv2"
   ]
  },
  {
   "cell_type": "code",
   "execution_count": 2,
   "metadata": {},
   "outputs": [
    {
     "name": "stdout",
     "output_type": "stream",
     "text": [
      "step 1: edge detection\n"
     ]
    }
   ],
   "source": [
    "image = cv2.imread('sun1.jpg')\n",
    "ori = image.copy()\n",
    "\n",
    "r = 800.0 / image.shape[0]\n",
    "dim = (int(image.shape[1] * r), 800)\n",
    "image = cv2.resize(image, dim, interpolation = cv2.INTER_AREA)\n",
    "\n",
    "gray = cv2.cvtColor(image, cv2.COLOR_BGR2GRAY)\n",
    "blur = cv2.GaussianBlur(gray, (17, 17), 0)\n",
    "#blur = cv2.bilateralFilter(image,5,50,50)\n",
    "#blur = cv2.GaussianBlur(gray, (5, 5), 0)\n",
    "#blur = cv2.medianBlur(image,5)\n",
    "#_, thresh = cv2.threshold(blur, 127, 255, cv2.THRESH_BINARY)\n",
    "edge = cv2.Canny(blur, 25, 159)\n",
    "#edge = cv2.medianBlur(edge,3)\n",
    "\n",
    "print(\"step 1: edge detection\")\n",
    "\n",
    "cv2.namedWindow('blur', cv2.WINDOW_NORMAL)\n",
    "cv2.namedWindow('image', cv2.WINDOW_NORMAL)\n",
    "cv2.namedWindow('edge', cv2.WINDOW_NORMAL)\n",
    "#cv2.namedWindow('thresh', cv2.WINDOW_NORMAL)\n",
    "cv2.imshow('blur', blur)\n",
    "cv2.imshow('image', image)\n",
    "#cv2.imshow('thresh', thresh)\n",
    "cv2.imshow('edge', edge)\n",
    "\n",
    "cv2.waitKey(0)\n",
    "cv2.destroyAllWindows()"
   ]
  },
  {
   "cell_type": "code",
   "execution_count": 3,
   "metadata": {},
   "outputs": [
    {
     "name": "stdout",
     "output_type": "stream",
     "text": [
      "step 2: find contours\n"
     ]
    }
   ],
   "source": [
    "cnts, _ = cv2.findContours(edge.copy(), cv2.RETR_LIST, cv2.CHAIN_APPROX_SIMPLE)\n",
    "\n",
    "cnts = sorted(cnts, key = cv2.contourArea, reverse = True)[:5]\n",
    "\n",
    "for c in cnts:\n",
    "    peri = cv2.arcLength(c, True)\n",
    "    approx = cv2.approxPolyDP(c, 0.02 * peri, True)\n",
    "    \n",
    "    if len(approx) == 4:\n",
    "        screenCnt = approx\n",
    "        break\n",
    "\n",
    "print(\"step 2: find contours\")\n",
    "\n",
    "cv2.drawContours(image, [screenCnt], -1, (0, 255, 0), 2)\n",
    "cv2.imshow('outline', image)\n",
    "\n",
    "cv2.waitKey(0)\n",
    "cv2.destroyAllWindows()"
   ]
  },
  {
   "cell_type": "code",
   "execution_count": 4,
   "metadata": {},
   "outputs": [],
   "source": [
    "def order_points(pts):\n",
    "    rect = np.zeros((4, 2), dtype='float32')\n",
    "    \n",
    "    s = pts.sum(axis = 1)\n",
    "    \n",
    "    rect[0] = pts[np.argmin(s)]\n",
    "    rect[2] = pts[np.argmax(s)]\n",
    "    \n",
    "    diff = np.diff(pts, axis=1)\n",
    "    rect[1] = pts[np.argmin(diff)]\n",
    "    rect[3] = pts[np.argmax(diff)]\n",
    "    \n",
    "    return rect"
   ]
  },
  {
   "cell_type": "code",
   "execution_count": 6,
   "metadata": {},
   "outputs": [
    {
     "name": "stderr",
     "output_type": "stream",
     "text": [
      "<ipython-input-6-1dbf53942fbf>:15: DeprecationWarning: an integer is required (got type numpy.float32).  Implicit conversion to integers using __int__ is deprecated, and may be removed in a future version of Python.\n",
      "  warped = cv2.warpPerspective(ori, M, (maxWidth, maxHeight))\n"
     ]
    },
    {
     "name": "stdout",
     "output_type": "stream",
     "text": [
      "step 3: apply perspective transform\n"
     ]
    }
   ],
   "source": [
    "rect = order_points(screenCnt.reshape(4,2) / r)\n",
    "(topLeft, topRight, bottomRight, bottomLeft) = rect\n",
    "\n",
    "w1 = abs(bottomRight[0] - bottomLeft[0])\n",
    "w2 = abs(topRight[0] - topLeft[0])\n",
    "h1 = abs(topRight[1] - bottomRight[1])\n",
    "h2 = abs(topLeft[1] - bottomLeft[1])\n",
    "maxWidth = max([w1, w2])\n",
    "maxHeight = max([h1, h2])\n",
    "\n",
    "dst = np.float32([[0, 0], [maxWidth - 1, 0], [maxWidth-1, maxHeight-1], [0, maxHeight - 1]])\n",
    "\n",
    "M = cv2.getPerspectiveTransform(rect, dst)\n",
    "\n",
    "warped = cv2.warpPerspective(ori, M, (maxWidth, maxHeight))\n",
    "\n",
    "print('step 3: apply perspective transform')\n",
    "cv2.imshow('warped', warped)\n",
    "\n",
    "cv2.waitKey(0)\n",
    "cv2.destroyAllWindows()"
   ]
  },
  {
   "cell_type": "code",
   "execution_count": null,
   "metadata": {},
   "outputs": [],
   "source": []
  }
 ],
 "metadata": {
  "kernelspec": {
   "display_name": "Python 3",
   "language": "python",
   "name": "python3"
  },
  "language_info": {
   "codemirror_mode": {
    "name": "ipython",
    "version": 3
   },
   "file_extension": ".py",
   "mimetype": "text/x-python",
   "name": "python",
   "nbconvert_exporter": "python",
   "pygments_lexer": "ipython3",
   "version": "3.8.3"
  }
 },
 "nbformat": 4,
 "nbformat_minor": 4
}
